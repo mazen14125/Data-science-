{
 "cells": [
  {
   "cell_type": "code",
   "execution_count": 29,
   "id": "34649169",
   "metadata": {},
   "outputs": [],
   "source": [
    "import pandas as pd\n",
    "from sklearn.model_selection import train_test_split\n",
    "from sklearn.preprocessing import StandardScaler, OneHotEncoder, MinMaxScaler\n",
    "from sklearn.compose import ColumnTransformer"
   ]
  },
  {
   "cell_type": "code",
   "execution_count": null,
   "id": "402873a3",
   "metadata": {},
   "outputs": [],
   "source": [
    "data = pd.read_csv(r\"C:/Users/LENOVO/Downloads/historical_projections.csv\")"
   ]
  },
  {
   "cell_type": "code",
   "execution_count": 31,
   "id": "e5d24fc4",
   "metadata": {},
   "outputs": [
    {
     "data": {
      "text/plain": [
       "['position']"
      ]
     },
     "execution_count": 31,
     "metadata": {},
     "output_type": "execute_result"
    }
   ],
   "source": [
    "cat_columns =['position']\n",
    "cat_columns"
   ]
  },
  {
   "cell_type": "code",
   "execution_count": null,
   "id": "e7ae8d6c",
   "metadata": {},
   "outputs": [],
   "source": [
    "duplicate_mask = data.duplicated(keep='first')\n",
    "duplicate_first_occurrence = data[duplicate_mask]\n",
    "print(\"First occurrence of each duplicated row:\")\n",
    "print(duplicate_first_occurrence)"
   ]
  },
  {
   "cell_type": "code",
   "execution_count": null,
   "id": "17495276",
   "metadata": {},
   "outputs": [],
   "source": [
    "missing_values = data.isnull().sum()\n",
    "missing_values"
   ]
  },
  {
   "cell_type": "code",
   "execution_count": 32,
   "id": "491b8815",
   "metadata": {},
   "outputs": [
    {
     "data": {
      "text/plain": [
       "array([[0., 0., 0., 0.],\n",
       "       [0., 0., 1., 0.],\n",
       "       [0., 0., 1., 0.],\n",
       "       ...,\n",
       "       [0., 0., 0., 0.],\n",
       "       [0., 0., 0., 1.],\n",
       "       [0., 0., 0., 0.]])"
      ]
     },
     "execution_count": 32,
     "metadata": {},
     "output_type": "execute_result"
    }
   ],
   "source": [
    "encoder = OneHotEncoder(drop='first', sparse_output=False)\n",
    "cat_encoded = encoder.fit_transform(data[cat_columns])\n",
    "cat_encoded"
   ]
  },
  {
   "cell_type": "code",
   "execution_count": 41,
   "id": "731d6083",
   "metadata": {},
   "outputs": [
    {
     "name": "stdout",
     "output_type": "stream",
     "text": [
      "Numerical Columns: ['projected spm', 'superstar', 'starter', 'role player', 'bust']\n",
      "               player                  id  draft year  projected spm  \\\n",
      "0  karl-anthony towns  karl-anthony-towns        2015       0.784435   \n",
      "1     justise winslow     justise-winslow        2015       0.739576   \n",
      "2     stanley johnson     stanley-johnson        2015       0.683000   \n",
      "3       jahlil okafor       jahlil-okafor        2015       0.637402   \n",
      "4    d`angelo russell    d-angelo-russell        2015       0.634602   \n",
      "\n",
      "   superstar   starter  role player      bust  position_pf  position_pg  \\\n",
      "0   0.740562  0.649198     0.185895  0.170822          0.0          0.0   \n",
      "1   0.459001  0.777712     0.215150  0.101390          0.0          0.0   \n",
      "2   0.372571  0.643902     0.432651  0.103145          0.0          0.0   \n",
      "3   0.322656  0.622667     0.340790  0.202230          0.0          0.0   \n",
      "4   0.835445  0.518874     0.043721  0.372551          0.0          1.0   \n",
      "\n",
      "   position_sf  position_sg  \n",
      "0          0.0          0.0  \n",
      "1          1.0          0.0  \n",
      "2          1.0          0.0  \n",
      "3          0.0          0.0  \n",
      "4          0.0          0.0  \n"
     ]
    }
   ],
   "source": [
    "\n",
    "num_columns = ['projected spm', 'superstar', 'starter', 'role player', 'bust']\n",
    "print(\"Numerical Columns:\", num_columns)\n",
    "\n",
    "# Normalize numerical features\n",
    "scaler = MinMaxScaler()\n",
    "data[num_columns] = scaler.fit_transform(data[num_columns])\n",
    "\n",
    "# Output and print the preprocessed data\n",
    "print(data.head())"
   ]
  },
  {
   "cell_type": "code",
   "execution_count": 43,
   "id": "49bad2bd",
   "metadata": {},
   "outputs": [],
   "source": [
    "output_file_path = r'C:\\Users\\LENOVO\\Downloads\\historicall_projections.csv'\n",
    "data.to_csv(output_file_path, index=False)\n"
   ]
  }
 ],
 "metadata": {
  "kernelspec": {
   "display_name": "Python 3 (ipykernel)",
   "language": "python",
   "name": "python3"
  },
  "language_info": {
   "codemirror_mode": {
    "name": "ipython",
    "version": 3
   },
   "file_extension": ".py",
   "mimetype": "text/x-python",
   "name": "python",
   "nbconvert_exporter": "python",
   "pygments_lexer": "ipython3",
   "version": "3.11.7"
  }
 },
 "nbformat": 4,
 "nbformat_minor": 5
}
